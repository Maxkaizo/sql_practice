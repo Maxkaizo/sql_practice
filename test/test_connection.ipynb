{
 "cells": [
  {
   "cell_type": "code",
   "execution_count": 3,
   "id": "4f2ee974",
   "metadata": {},
   "outputs": [],
   "source": [
    "from sqlalchemy import create_engine, text\n",
    "import pandas as pd"
   ]
  },
  {
   "cell_type": "code",
   "execution_count": 4,
   "id": "7095e83c",
   "metadata": {},
   "outputs": [],
   "source": [
    "# Reemplaza estos valores si cambiaste tus variables de entorno\n",
    "db_user = \"maxkaizo\"\n",
    "db_pass = \"maolo\"\n",
    "db_host = \"localhost\"\n",
    "db_port = \"5432\"\n",
    "db_name = \"mydb\"\n",
    "\n",
    "connection_url = f\"postgresql://{db_user}:{db_pass}@{db_host}:{db_port}/{db_name}\"\n"
   ]
  },
  {
   "cell_type": "code",
   "execution_count": 5,
   "id": "66189333",
   "metadata": {},
   "outputs": [
    {
     "name": "stdout",
     "output_type": "stream",
     "text": [
      "✅ Connection successful!\n",
      "PostgreSQL version: PostgreSQL 15.13 (Debian 15.13-1.pgdg120+1) on x86_64-pc-linux-gnu, compiled by gcc (Debian 12.2.0-14) 12.2.0, 64-bit\n"
     ]
    }
   ],
   "source": [
    "engine = create_engine(connection_url)\n",
    "\n",
    "# Probar conexión\n",
    "with engine.connect() as conn:\n",
    "    result = conn.execute(text(\"SELECT version();\"))\n",
    "    print(\"✅ Connection successful!\")\n",
    "    for row in result:\n",
    "        print(\"PostgreSQL version:\", row[0])\n"
   ]
  },
  {
   "cell_type": "code",
   "execution_count": 13,
   "id": "b5eecf4e",
   "metadata": {},
   "outputs": [],
   "source": [
    "with engine.begin() as conn:\n",
    "    conn.execute(text(\"\"\"\n",
    "        DROP TABLE IF EXISTS test_table;\n",
    "        CREATE TABLE test_table (\n",
    "            id SERIAL PRIMARY KEY,\n",
    "            message TEXT\n",
    "        );\n",
    "        INSERT INTO test_table (message)\n",
    "        VALUES ('Hello from SQLAlchemy'), ('Another message');\n",
    "    \"\"\"))\n",
    "\n"
   ]
  },
  {
   "cell_type": "code",
   "execution_count": 14,
   "id": "969427bd",
   "metadata": {},
   "outputs": [
    {
     "data": {
      "text/html": [
       "<div>\n",
       "<style scoped>\n",
       "    .dataframe tbody tr th:only-of-type {\n",
       "        vertical-align: middle;\n",
       "    }\n",
       "\n",
       "    .dataframe tbody tr th {\n",
       "        vertical-align: top;\n",
       "    }\n",
       "\n",
       "    .dataframe thead th {\n",
       "        text-align: right;\n",
       "    }\n",
       "</style>\n",
       "<table border=\"1\" class=\"dataframe\">\n",
       "  <thead>\n",
       "    <tr style=\"text-align: right;\">\n",
       "      <th></th>\n",
       "      <th>id</th>\n",
       "      <th>message</th>\n",
       "    </tr>\n",
       "  </thead>\n",
       "  <tbody>\n",
       "    <tr>\n",
       "      <th>0</th>\n",
       "      <td>1</td>\n",
       "      <td>Hello from SQLAlchemy</td>\n",
       "    </tr>\n",
       "    <tr>\n",
       "      <th>1</th>\n",
       "      <td>2</td>\n",
       "      <td>Another message</td>\n",
       "    </tr>\n",
       "  </tbody>\n",
       "</table>\n",
       "</div>"
      ],
      "text/plain": [
       "   id                message\n",
       "0   1  Hello from SQLAlchemy\n",
       "1   2        Another message"
      ]
     },
     "execution_count": 14,
     "metadata": {},
     "output_type": "execute_result"
    }
   ],
   "source": [
    "df = pd.read_sql(\"SELECT * FROM test_table;\", con=engine)\n",
    "df\n"
   ]
  },
  {
   "cell_type": "code",
   "execution_count": null,
   "id": "94c643d9",
   "metadata": {},
   "outputs": [],
   "source": []
  }
 ],
 "metadata": {
  "kernelspec": {
   "display_name": "dataeng",
   "language": "python",
   "name": "python3"
  },
  "language_info": {
   "codemirror_mode": {
    "name": "ipython",
    "version": 3
   },
   "file_extension": ".py",
   "mimetype": "text/x-python",
   "name": "python",
   "nbconvert_exporter": "python",
   "pygments_lexer": "ipython3",
   "version": "3.9.21"
  }
 },
 "nbformat": 4,
 "nbformat_minor": 5
}
